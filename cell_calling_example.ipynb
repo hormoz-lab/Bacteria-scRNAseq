{
 "cells": [
  {
   "cell_type": "markdown",
   "metadata": {},
   "source": [
    "## 1. Convert probe matrix to gene matrix \n",
    "\n",
    "We prefer taking the maximum count among probes as the count of that gene. This can be done with `gene_matrix_from_probe_matrix.m` function by passing `max_probe_in_cell` to `map_method` argument. (There is yet-to-be-tested python version of this in \"Python\" branch of the gitlab repo) Let's say this matrix is named `gene_count`. \n",
    "\n",
    "Then sort the matrix in a descending order. Inspect its barcode rank plot, `loglog(gene_count.sum(axis=1))`, and choose $U$ and $T$ cutoffs to identify real/putative cells and ambient barcodes. Please refer to the \"Cell Calling\" supplemental text and the associated figure. At this point, you should be able to plug-in to the following pipeline."
   ]
  },
  {
   "cell_type": "code",
   "execution_count": null,
   "metadata": {},
   "outputs": [],
   "source": [
    "import numpy as np\n",
    "import scipy\n",
    "\n",
    "import statsmodels.api as sm\n",
    "from statsmodels.stats.multitest import multipletests"
   ]
  },
  {
   "cell_type": "code",
   "execution_count": null,
   "metadata": {},
   "outputs": [],
   "source": [
    "# filter genes without count (in ambient barcodes)\n",
    "ambient_count = gene_count[T:] \n",
    "total_gene_count_ambient = ambient_count.sum(axis=0)\n",
    "nonzero_ind = np.flatnonzero(total_gene_count_ambient)\n",
    "\n",
    "# break gene_count matrix into the three count matrices\n",
    "real_count = gene_count[:U, nonzero_ind]\n",
    "putative_count = gene_count[U:T, nonzero_ind]\n",
    "ambient_count = gene_count[T:, nonzero_ind] \n",
    "\n",
    "# get normalized count matrix \n",
    "ambient_freq = ambient_count[:, nonzero_ind] / ambient_count[:, nonzero_ind].sum(axis=1, keepdims=True)                                                                                   "
   ]
  },
  {
   "cell_type": "markdown",
   "metadata": {},
   "source": [
    "## 2. Find proportionality constant $\\alpha$ between mean and variance of normalized count from ambient barcodes"
   ]
  },
  {
   "cell_type": "code",
   "execution_count": null,
   "metadata": {},
   "outputs": [],
   "source": [
    "ambient_mean = ambient_freq.mean(axis=0)\n",
    "ambient_var = ambient_freq.var(axis=0)\n",
    "\n",
    "res = sm.OLS(ambient_var, ambient_mean).fit()\n",
    "slope = res.params.item()\n",
    "\n",
    "lower_cutoff = int(np.ceil(1/slope))\n",
    "'''Both real and putative counts should have per-barcode total count greater than lower_cutoff'''\n",
    "# real_ind_to_keep = np.flatnonzero(real_count.sum(axis=1) > lower_cutoff)\n",
    "# real_count = real_count[real_ind_to_keep]\n",
    "# putative_ind_to_keep = np.flatnonzero(putative_count.sum(axis=1) > lower_cutoff)\n",
    "# putative_count = putative_count[putative_ind_to_keep]\n",
    "ambient_ind_to_keep = np.flatnonzero(ambient_count.sum(axis=1) > lower_cutoff)\n",
    "ambient_count = ambient_count[ambient_ind_to_keep]"
   ]
  },
  {
   "cell_type": "markdown",
   "metadata": {},
   "source": [
    "## 3. Calculate $p$-values using negative binomial distribution\n",
    "We are using $\\alpha$ to obtain variance in *count* from variance in *frequency*."
   ]
  },
  {
   "cell_type": "code",
   "execution_count": null,
   "metadata": {},
   "outputs": [],
   "source": [
    "def collect_pvalues(count_matrix, prior_p, slope, num_sim=1000):\n",
    "    pvals_total = []\n",
    "    for barcode in count_matrix:\n",
    "        total_count = barcode.sum()\n",
    "\n",
    "        mean = prior_p * total_count\n",
    "        var = (prior_p * slope) * (total_count ** 2) \n",
    "\n",
    "        phi = mean**2 / (var - mean)\n",
    "        p = mean / var\n",
    "\n",
    "        Lb = scipy.stats.nbinom.logpmf(barcode, phi, p).sum()\n",
    "\n",
    "        samples = scipy.stats.nbinom.rvs(phi, p, size=(num_sim, len(prior_p)))\n",
    "        Lsamples = scipy.stats.nbinom.logpmf(samples, phi, p).sum(axis=1)\n",
    "        pval = (np.count_nonzero(Lsamples < Lb) + 1) / (num_sim + 1)\n",
    "        pvals_total.append(pval)   \n",
    "        \n",
    "    return np.array(pvals_total)"
   ]
  },
  {
   "cell_type": "code",
   "execution_count": null,
   "metadata": {},
   "outputs": [],
   "source": [
    "putative_pvals = collect_pvalues(putative_count, ambient_mean, slope)\n",
    "\n",
    "'''trt setting this error rate, alpha, as low as possible (e.g., 0.002)'''\n",
    "putative_reject, putative_pvals_corrected = multipletests(putative_pvals, alpha=0.05, method='fdr_bh')[:2]  \n",
    "\n",
    "gene_count_called = np.vstack((real_count, putative_count[putative_reject]))"
   ]
  }
 ],
 "metadata": {
  "kernelspec": {
   "display_name": "Python 3",
   "language": "python",
   "name": "python3"
  },
  "language_info": {
   "codemirror_mode": {
    "name": "ipython",
    "version": 3
   },
   "file_extension": ".py",
   "mimetype": "text/x-python",
   "name": "python",
   "nbconvert_exporter": "python",
   "pygments_lexer": "ipython3",
   "version": "3.8.5"
  }
 },
 "nbformat": 4,
 "nbformat_minor": 5
}
